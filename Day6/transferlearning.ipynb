{
 "cells": [
  {
   "cell_type": "code",
   "execution_count": 2,
   "metadata": {},
   "outputs": [
    {
     "name": "stdout",
     "output_type": "stream",
     "text": [
      "WARNING:tensorflow:`input_shape` is undefined or non-square, or `rows` is not in [96, 128, 160, 192, 224]. Weights for input shape (224, 224) will be loaded as the default.\n",
      "1/1 [==============================] - 8s 8s/step\n",
      "1/1 [==============================] - 5s 5s/step\n",
      "1/1 [==============================] - 3s 3s/step\n",
      "1/1 [==============================] - 3s 3s/step\n",
      "1/1 [==============================] - 3s 3s/step\n",
      "1/1 [==============================] - 3s 3s/step\n",
      "1/1 [==============================] - 3s 3s/step\n",
      "1/1 [==============================] - 3s 3s/step\n",
      "1/1 [==============================] - 3s 3s/step\n",
      "1/1 [==============================] - 3s 3s/step\n",
      "1/1 [==============================] - 3s 3s/step\n",
      "1/1 [==============================] - 3s 3s/step\n",
      "1/1 [==============================] - 3s 3s/step\n",
      "1/1 [==============================] - 3s 3s/step\n",
      "1/1 [==============================] - 3s 3s/step\n",
      "1/1 [==============================] - 3s 3s/step\n",
      "1/1 [==============================] - 3s 3s/step\n",
      "1/1 [==============================] - 3s 3s/step\n",
      "1/1 [==============================] - 3s 3s/step\n",
      "1/1 [==============================] - 3s 3s/step\n",
      "1/1 [==============================] - 3s 3s/step\n",
      "1/1 [==============================] - 3s 3s/step\n",
      "1/1 [==============================] - 3s 3s/step\n",
      "1/1 [==============================] - 3s 3s/step\n",
      "1/1 [==============================] - 3s 3s/step\n",
      "1/1 [==============================] - 3s 3s/step\n",
      "1/1 [==============================] - 3s 3s/step\n",
      "1/1 [==============================] - 3s 3s/step\n",
      "1/1 [==============================] - 3s 3s/step\n",
      "1/1 [==============================] - 3s 3s/step\n",
      "1/1 [==============================] - 3s 3s/step\n",
      "1/1 [==============================] - 3s 3s/step\n",
      "1/1 [==============================] - 3s 3s/step\n",
      "1/1 [==============================] - 3s 3s/step\n",
      "1/1 [==============================] - 3s 3s/step\n",
      "1/1 [==============================] - 3s 3s/step\n",
      "1/1 [==============================] - 3s 3s/step\n",
      "1/1 [==============================] - 3s 3s/step\n",
      "1/1 [==============================] - 3s 3s/step\n",
      "1/1 [==============================] - 3s 3s/step\n",
      "1/1 [==============================] - 3s 3s/step\n",
      "1/1 [==============================] - 3s 3s/step\n"
     ]
    }
   ],
   "source": [
    "import os\n",
    "from PIL import Image\n",
    "import numpy as np\n",
    "import keras\n",
    "import cv2\n",
    "from matplotlib import pyplot as plt\n",
    "from keras.applications.vgg16 import VGG16\n",
    "from keras.applications.resnet50 import ResNet50\n",
    "from keras.applications.xception import Xception\n",
    "from keras.applications.mobilenet_v2 import MobileNetV2\n",
    "from keras.applications.inception_v3 import InceptionV3\n",
    "from keras.applications.densenet import DenseNet121\n",
    "import tensorflow as tf\n",
    "from tensorflow.keras import layers\n",
    "from tensorflow.keras import models\n",
    "import random\n",
    "\n",
    "\n",
    "vggModel = VGG16(weights='imagenet', include_top=False)\n",
    "resModel = ResNet50(weights='imagenet',include_top=False)\n",
    "xceptionModel = Xception(weights='imagenet',include_top=False)\n",
    "mobilenetModel = MobileNetV2(weights='imagenet',include_top=False)\n",
    "inceptionModel = InceptionV3(weights='imagenet',include_top=False)\n",
    "densenetModel = DenseNet121(weights='imagenet',include_top=False)\n",
    "\n",
    "model = resModel\n",
    "\n",
    "X = []\n",
    "Y = []\n",
    "classCount = 0\n",
    "\n",
    "basepath='./dataset/'\n",
    "for folder in os.scandir(basepath):\n",
    "    if folder.is_dir():\n",
    "        for imfile in os.scandir(folder.path):\n",
    "            image = Image.open(imfile.path)\n",
    "            image = np.array(image.resize((224,224)))\n",
    "            image = image.reshape([-1,224,224,3])\n",
    "            feature=(model.predict([image])).flatten()\n",
    "            X.append(feature)\n",
    "            Y.append(folder.name)\n",
    "        classCount+=1\n",
    "X = np.array(X)"
   ]
  },
  {
   "cell_type": "code",
   "execution_count": 3,
   "metadata": {},
   "outputs": [
    {
     "name": "stdout",
     "output_type": "stream",
     "text": [
      "(42, 100352)\n",
      "(42,)\n"
     ]
    }
   ],
   "source": [
    "print(np.shape(X))\n",
    "print(np.shape(Y))"
   ]
  },
  {
   "cell_type": "code",
   "execution_count": 4,
   "metadata": {},
   "outputs": [
    {
     "name": "stdout",
     "output_type": "stream",
     "text": [
      "(42, 249)\n",
      "(42,)\n"
     ]
    }
   ],
   "source": [
    "from sklearn.ensemble import ExtraTreesClassifier\n",
    "from sklearn.feature_selection import SelectFromModel\n",
    "\n",
    "clf = ExtraTreesClassifier(n_estimators=50)\n",
    "clf = clf.fit(X, Y)\n",
    "model = SelectFromModel(clf, prefit=True)\n",
    "X = model.transform(X)\n",
    "\n",
    "print(np.shape(X))\n",
    "print(np.shape(Y))"
   ]
  },
  {
   "cell_type": "code",
   "execution_count": 5,
   "metadata": {},
   "outputs": [
    {
     "name": "stdout",
     "output_type": "stream",
     "text": [
      "[0 0 0 0 0 0 0 0 0 0 0 0 0 0 0 0 0 0 0 0 0 0 1 1 1 1 1 1 1 1 1 1 1 1 1 1 1\n",
      " 1 1 1 1 1]\n",
      "Model: \"sequential\"\n",
      "_________________________________________________________________\n",
      " Layer (type)                Output Shape              Param #   \n",
      "=================================================================\n",
      " dense (Dense)               (None, 10000)             2500000   \n",
      "                                                                 \n",
      " dense_1 (Dense)             (None, 5000)              50005000  \n",
      "                                                                 \n",
      " dense_2 (Dense)             (None, 2000)              10002000  \n",
      "                                                                 \n",
      " dense_3 (Dense)             (None, 500)               1000500   \n",
      "                                                                 \n",
      " dense_4 (Dense)             (None, 300)               150300    \n",
      "                                                                 \n",
      " dense_5 (Dense)             (None, 200)               60200     \n",
      "                                                                 \n",
      " dense_6 (Dense)             (None, 120)               24120     \n",
      "                                                                 \n",
      " dense_7 (Dense)             (None, 30)                3630      \n",
      "                                                                 \n",
      " dense_8 (Dense)             (None, 30)                930       \n",
      "                                                                 \n",
      " dense_9 (Dense)             (None, 1)                 31        \n",
      "                                                                 \n",
      "=================================================================\n",
      "Total params: 63746711 (243.17 MB)\n",
      "Trainable params: 63746711 (243.17 MB)\n",
      "Non-trainable params: 0 (0.00 Byte)\n",
      "_________________________________________________________________\n",
      "WARNING:tensorflow:From C:\\Users\\shail\\anaconda3\\Lib\\site-packages\\keras\\src\\optimizers\\__init__.py:309: The name tf.train.Optimizer is deprecated. Please use tf.compat.v1.train.Optimizer instead.\n",
      "\n",
      "Epoch 1/25\n",
      "WARNING:tensorflow:From C:\\Users\\shail\\anaconda3\\Lib\\site-packages\\keras\\src\\utils\\tf_utils.py:492: The name tf.ragged.RaggedTensorValue is deprecated. Please use tf.compat.v1.ragged.RaggedTensorValue instead.\n",
      "\n",
      "WARNING:tensorflow:From C:\\Users\\shail\\anaconda3\\Lib\\site-packages\\keras\\src\\engine\\base_layer_utils.py:384: The name tf.executing_eagerly_outside_functions is deprecated. Please use tf.compat.v1.executing_eagerly_outside_functions instead.\n",
      "\n",
      "8/8 [==============================] - 15s 757ms/step - loss: 2.1058 - accuracy: 0.5862\n",
      "Epoch 2/25\n",
      "8/8 [==============================] - 6s 749ms/step - loss: 0.0061 - accuracy: 1.0000\n",
      "Epoch 3/25\n",
      "8/8 [==============================] - 6s 719ms/step - loss: 1.9273e-06 - accuracy: 1.0000\n",
      "Epoch 4/25\n",
      "8/8 [==============================] - 7s 851ms/step - loss: 2.0602e-10 - accuracy: 1.0000\n",
      "Epoch 5/25\n",
      "8/8 [==============================] - 6s 686ms/step - loss: 3.7973e-13 - accuracy: 1.0000\n",
      "Epoch 6/25\n",
      "8/8 [==============================] - 6s 761ms/step - loss: 3.6578e-14 - accuracy: 1.0000\n",
      "Epoch 7/25\n",
      "8/8 [==============================] - 6s 788ms/step - loss: 1.1015e-14 - accuracy: 1.0000\n",
      "Epoch 8/25\n",
      "8/8 [==============================] - 6s 804ms/step - loss: 7.9381e-15 - accuracy: 1.0000\n",
      "Epoch 9/25\n",
      "8/8 [==============================] - 6s 782ms/step - loss: 7.0141e-15 - accuracy: 1.0000\n",
      "Epoch 10/25\n",
      "8/8 [==============================] - 6s 730ms/step - loss: 6.8136e-15 - accuracy: 1.0000\n",
      "Epoch 11/25\n",
      "8/8 [==============================] - 6s 699ms/step - loss: 6.4563e-15 - accuracy: 1.0000\n",
      "Epoch 12/25\n",
      "8/8 [==============================] - 6s 691ms/step - loss: 6.4072e-15 - accuracy: 1.0000\n",
      "Epoch 13/25\n",
      "8/8 [==============================] - 6s 699ms/step - loss: 6.3620e-15 - accuracy: 1.0000\n",
      "Epoch 14/25\n",
      "8/8 [==============================] - 8s 976ms/step - loss: 6.3313e-15 - accuracy: 1.0000\n",
      "Epoch 15/25\n",
      "8/8 [==============================] - 9s 1s/step - loss: 6.3273e-15 - accuracy: 1.0000\n",
      "Epoch 16/25\n",
      "8/8 [==============================] - 9s 1s/step - loss: 6.3201e-15 - accuracy: 1.0000\n",
      "Epoch 17/25\n",
      "8/8 [==============================] - 10s 1s/step - loss: 6.3189e-15 - accuracy: 1.0000\n",
      "Epoch 18/25\n",
      "8/8 [==============================] - 6s 798ms/step - loss: 6.3179e-15 - accuracy: 1.0000\n",
      "Epoch 19/25\n",
      "8/8 [==============================] - 9s 1s/step - loss: 6.3178e-15 - accuracy: 1.0000\n",
      "Epoch 20/25\n",
      "8/8 [==============================] - 8s 994ms/step - loss: 6.3176e-15 - accuracy: 1.0000\n",
      "Epoch 21/25\n",
      "8/8 [==============================] - 9s 1s/step - loss: 6.3176e-15 - accuracy: 1.0000\n",
      "Epoch 22/25\n",
      "8/8 [==============================] - 9s 1s/step - loss: 6.3176e-15 - accuracy: 1.0000\n",
      "Epoch 23/25\n",
      "8/8 [==============================] - 9s 1s/step - loss: 6.3177e-15 - accuracy: 1.0000\n",
      "Epoch 24/25\n",
      "8/8 [==============================] - 7s 901ms/step - loss: 6.3176e-15 - accuracy: 1.0000\n",
      "Epoch 25/25\n",
      "8/8 [==============================] - 7s 923ms/step - loss: 6.3176e-15 - accuracy: 1.0000\n",
      "1/1 [==============================] - 10s 10s/step - loss: 9.2090e-12 - accuracy: 1.0000\n",
      "1.0\n"
     ]
    }
   ],
   "source": [
    "from sklearn.preprocessing import LabelEncoder\n",
    "from sklearn.model_selection import train_test_split\n",
    "\n",
    "encoder = LabelEncoder()\n",
    "y = encoder.fit_transform(Y)\n",
    "print(y)        \n",
    "X_train, X_test, y_train, y_test = train_test_split(np.array(X), np.array(y), test_size=0.3, random_state=42)\n",
    "\n",
    "random.seed(42)\n",
    "np.random.seed(42)\n",
    "tf.random.set_seed(42)\n",
    "\n",
    "\n",
    "dnnModel=models.Sequential()\n",
    "dnnModel.add(layers.Dense(10000,activation=\"relu\",input_shape=(np.shape(X)[1],)))\n",
    "dnnModel.add(layers.Dense(5000,activation=\"relu\"))\n",
    "dnnModel.add(layers.Dense(2000,activation=\"relu\"))\n",
    "dnnModel.add(layers.Dense(500,activation=\"relu\"))\n",
    "dnnModel.add(layers.Dense(300,activation=\"relu\"))\n",
    "dnnModel.add(layers.Dense(200,activation=\"relu\"))\n",
    "dnnModel.add(layers.Dense(120,activation=\"relu\"))\n",
    "dnnModel.add(layers.Dense(30,activation=\"relu\"))\n",
    "dnnModel.add(layers.Dense(30,activation=\"relu\"))\n",
    "dnnModel.add(layers.Dense(1,activation=\"sigmoid\"))\n",
    "dnnModel.summary()\n",
    "\n",
    "\n",
    "dnnModel.compile(optimizer=\"Adam\",loss=\"binary_crossentropy\",metrics=[\"accuracy\"])\n",
    "\n",
    "\n",
    "dnnModel.fit(X_train,y_train,epochs=25,batch_size=4)\n",
    "\n",
    "testloss, testAccuracy=dnnModel.evaluate(X_test,y_test)\n",
    "\n",
    "print(testAccuracy)\n"
   ]
  },
  {
   "cell_type": "code",
   "execution_count": 7,
   "metadata": {},
   "outputs": [],
   "source": [
    "from sklearn.model_selection import cross_val_score\n",
    "from sklearn.linear_model import LogisticRegression\n",
    "from sklearn.naive_bayes import GaussianNB\n",
    "from sklearn.svm import SVC\n",
    "from sklearn.ensemble import RandomForestClassifier\n",
    "from sklearn.ensemble import VotingClassifier\n",
    "import seaborn as sns\n",
    "from sklearn.metrics import confusion_matrix"
   ]
  },
  {
   "cell_type": "code",
   "execution_count": null,
   "metadata": {},
   "outputs": [
    {
     "name": "stdout",
     "output_type": "stream",
     "text": [
      "Accuracy: 1.00 (+/- 0.00) [Logistic Regression]\n",
      "Accuracy: 1.00 (+/- 0.00) [Random Forest]\n",
      "Accuracy: 0.93 (+/- 0.02) [Naive Bayes]\n",
      "Accuracy: 1.00 (+/- 0.00) [SVM]\n",
      "Accuracy: 1.00 (+/- 0.00) [Ensemble]\n"
     ]
    }
   ],
   "source": [
    "\n",
    "clf1 = LogisticRegression(random_state=1)\n",
    "clf2 = RandomForestClassifier(n_estimators=50, random_state=1)\n",
    "clf3 = GaussianNB()\n",
    "clf4 = SVC()\n",
    "\n",
    "eclf = VotingClassifier(\n",
    "    estimators=[('lr', clf1), ('rf', clf2), ('gnb', clf3), ('svm', clf4)],\n",
    "    voting='hard')\n",
    "\n",
    "acc=[]\n",
    "for clf, label in zip([clf1, clf2, clf3,clf4, eclf], ['Logistic Regression', 'Random Forest', 'Naive Bayes', 'SVM','Ensemble']):\n",
    "    scores = cross_val_score(clf, X, y, scoring='accuracy', cv=2)\n",
    "    print(\"Accuracy: %0.2f (+/- %0.2f) [%s]\" % (scores.mean(), scores.std(), label))\n",
    "    acc.append(scores.mean())\n",
    "sns.barplot(x=['LR', 'RF', 'NB', 'SVM','Ensemble'],y=acc)"
   ]
  },
  {
   "cell_type": "code",
   "execution_count": null,
   "metadata": {},
   "outputs": [],
   "source": [
    "clf1.fit(X_train,y_train)\n",
    "cm = confusion_matrix(y_test,clf1.predict(X_test))\n",
    "sns.heatmap(cm,annot=True,xticklabels=encoder.inverse_transform([0,1]),yticklabels=encoder.inverse_transform([0,1]),cmap='Greens')"
   ]
  },
  {
   "cell_type": "code",
   "execution_count": null,
   "metadata": {},
   "outputs": [],
   "source": [
    "clf2.fit(X_train,y_train)\n",
    "cm = confusion_matrix(y_test,clf2.predict(X_test))\n",
    "sns.heatmap(cm,annot=True,xticklabels=encoder.inverse_transform([0,1]),yticklabels=encoder.inverse_transform([0,1]),cmap='Blues')"
   ]
  },
  {
   "cell_type": "code",
   "execution_count": null,
   "metadata": {},
   "outputs": [],
   "source": [
    "clf3.fit(X_train,y_train)\n",
    "cm = confusion_matrix(y_test,clf3.predict(X_test))\n",
    "sns.heatmap(cm,annot=True,xticklabels=encoder.inverse_transform([0,1]),yticklabels=encoder.inverse_transform([0,1]),cmap='Oranges')"
   ]
  },
  {
   "cell_type": "code",
   "execution_count": 14,
   "metadata": {},
   "outputs": [
    {
     "data": {
      "text/plain": [
       "<Axes: >"
      ]
     },
     "execution_count": 14,
     "metadata": {},
     "output_type": "execute_result"
    },
    {
     "data": {
      "image/png": "[encoded data removed]",
      "text/plain": [
       "<Figure size 640x480 with 2 Axes>"
      ]
     },
     "metadata": {},
     "output_type": "display_data"
    }
   ],
   "source": [
    "clf4.fit(X_train,y_train)\n",
    "cm = confusion_matrix(y_test,clf4.predict(X_test))\n",
    "sns.heatmap(cm,annot=True,xticklabels=encoder.inverse_transform([0,1]),yticklabels=encoder.inverse_transform([0,1]), cmap='Reds')"
   ]
  },
  {
   "cell_type": "code",
   "execution_count": 15,
   "metadata": {},
   "outputs": [
    {
     "data": {
      "text/plain": [
       "<Axes: >"
      ]
     },
     "execution_count": 15,
     "metadata": {},
     "output_type": "execute_result"
    },
    {
     "data": {
      "image/png": "[encoded data removed]",
      "text/plain": [
       "<Figure size 640x480 with 2 Axes>"
      ]
     },
     "metadata": {},
     "output_type": "display_data"
    }
   ],
   "source": [
    "eclf.fit(X_train,y_train)\n",
    "cm = confusion_matrix(y_test,eclf.predict(X_test))\n",
    "sns.heatmap(cm,annot=True,xticklabels=encoder.inverse_transform([0,1]),yticklabels=encoder.inverse_transform([0,1]),cmap='Greys')"
   ]
  },
  {
   "cell_type": "code",
   "execution_count": null,
   "metadata": {},
   "outputs": [],
   "source": []
  }
 ],
 "metadata": {
  "kernelspec": {
   "display_name": "Python 3 (ipykernel)",
   "language": "python",
   "name": "python3"
  },
  "language_info": {
   "codemirror_mode": {
    "name": "ipython",
    "version": 3
   },
   "file_extension": ".py",
   "mimetype": "text/x-python",
   "name": "python",
   "nbconvert_exporter": "python",
   "pygments_lexer": "ipython3",
   "version": "3.11.4"
  }
 },
 "nbformat": 4,
 "nbformat_minor": 2
}
