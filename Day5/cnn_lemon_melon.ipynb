{
 "cells": [
  {
   "cell_type": "code",
   "execution_count": 11,
   "metadata": {},
   "outputs": [
    {
     "name": "stdout",
     "output_type": "stream",
     "text": [
      "(42, 120, 120, 3)\n",
      "['lemon', 'lemon', 'lemon', 'lemon', 'lemon', 'lemon', 'lemon', 'lemon', 'lemon', 'lemon', 'lemon', 'lemon', 'lemon', 'lemon', 'lemon', 'lemon', 'lemon', 'lemon', 'lemon', 'lemon', 'lemon', 'lemon', 'melon', 'melon', 'melon', 'melon', 'melon', 'melon', 'melon', 'melon', 'melon', 'melon', 'melon', 'melon', 'melon', 'melon', 'melon', 'melon', 'melon', 'melon', 'melon', 'melon']\n"
     ]
    }
   ],
   "source": [
    "import os\n",
    "from PIL import Image\n",
    "import numpy as np\n",
    "import os\n",
    " \n",
    "\n",
    "X = []\n",
    "y = []\n",
    "\n",
    "base_path='./lemon-melon-classifier/dataset/'\n",
    "source_path=base_path\n",
    "for child in os.listdir(source_path):\n",
    "    sub_path = os.path.join(source_path, child)\n",
    "    if os.path.isdir(sub_path):\n",
    "        for data_file in os.listdir(sub_path):\n",
    "            X_i = Image.open(os.path.join(sub_path, data_file))\n",
    "            X_i = np.array(X_i.resize((120,120))) / 255.0\n",
    "            X.append(X_i)\n",
    "            y.append(child)\n",
    "print(np.shape(X))\n",
    "print(y)"
   ]
  },
  {
   "cell_type": "code",
   "execution_count": 12,
   "metadata": {},
   "outputs": [
    {
     "name": "stdout",
     "output_type": "stream",
     "text": [
      "[0 0 0 0 0 0 0 0 0 0 0 0 0 0 0 0 0 0 0 0 0 0 1 1 1 1 1 1 1 1 1 1 1 1 1 1 1\n",
      " 1 1 1 1 1]\n"
     ]
    }
   ],
   "source": [
    "from sklearn.preprocessing import LabelEncoder\n",
    "encoder = LabelEncoder()\n",
    "y = encoder.fit_transform(y)\n",
    "print(y)"
   ]
  },
  {
   "cell_type": "code",
   "execution_count": 13,
   "metadata": {},
   "outputs": [
    {
     "name": "stdout",
     "output_type": "stream",
     "text": [
      "Model: \"sequential_1\"\n",
      "_________________________________________________________________\n",
      " Layer (type)                Output Shape              Param #   \n",
      "=================================================================\n",
      " conv2d_3 (Conv2D)           (None, 118, 118, 10)      280       \n",
      "                                                                 \n",
      " max_pooling2d_2 (MaxPoolin  (None, 59, 59, 10)        0         \n",
      " g2D)                                                            \n",
      "                                                                 \n",
      " conv2d_4 (Conv2D)           (None, 57, 57, 64)        5824      \n",
      "                                                                 \n",
      " max_pooling2d_3 (MaxPoolin  (None, 28, 28, 64)        0         \n",
      " g2D)                                                            \n",
      "                                                                 \n",
      " conv2d_5 (Conv2D)           (None, 26, 26, 64)        36928     \n",
      "                                                                 \n",
      " flatten_1 (Flatten)         (None, 43264)             0         \n",
      "                                                                 \n",
      " dense_3 (Dense)             (None, 64)                2768960   \n",
      "                                                                 \n",
      " dense_4 (Dense)             (None, 32)                2080      \n",
      "                                                                 \n",
      " dense_5 (Dense)             (None, 1)                 33        \n",
      "                                                                 \n",
      "=================================================================\n",
      "Total params: 2814105 (10.73 MB)\n",
      "Trainable params: 2814105 (10.73 MB)\n",
      "Non-trainable params: 0 (0.00 Byte)\n",
      "_________________________________________________________________\n",
      "Epoch 1/20\n",
      "2/2 [==============================] - 1s 48ms/step - loss: 0.7076 - accuracy: 0.4545\n",
      "Epoch 2/20\n",
      "2/2 [==============================] - 0s 38ms/step - loss: 1.2061 - accuracy: 0.5455\n",
      "Epoch 3/20\n",
      "2/2 [==============================] - 0s 40ms/step - loss: 0.8704 - accuracy: 0.5455\n",
      "Epoch 4/20\n",
      "2/2 [==============================] - 0s 37ms/step - loss: 0.6714 - accuracy: 0.5455\n",
      "Epoch 5/20\n",
      "2/2 [==============================] - 0s 37ms/step - loss: 0.6093 - accuracy: 0.5455\n",
      "Epoch 6/20\n",
      "2/2 [==============================] - 0s 37ms/step - loss: 0.5962 - accuracy: 0.5455\n",
      "Epoch 7/20\n",
      "2/2 [==============================] - 0s 43ms/step - loss: 0.5577 - accuracy: 0.6364\n",
      "Epoch 8/20\n",
      "2/2 [==============================] - 0s 64ms/step - loss: 0.3920 - accuracy: 0.9091\n",
      "Epoch 9/20\n",
      "2/2 [==============================] - 0s 52ms/step - loss: 0.2844 - accuracy: 0.9394\n",
      "Epoch 10/20\n",
      "2/2 [==============================] - 0s 65ms/step - loss: 0.4481 - accuracy: 0.6667\n",
      "Epoch 11/20\n",
      "2/2 [==============================] - 0s 51ms/step - loss: 0.4986 - accuracy: 0.6667\n",
      "Epoch 12/20\n",
      "2/2 [==============================] - 0s 42ms/step - loss: 0.1676 - accuracy: 0.9394\n",
      "Epoch 13/20\n",
      "2/2 [==============================] - 0s 44ms/step - loss: 0.5349 - accuracy: 0.7576\n",
      "Epoch 14/20\n",
      "2/2 [==============================] - 0s 39ms/step - loss: 0.2988 - accuracy: 0.9394\n",
      "Epoch 15/20\n",
      "2/2 [==============================] - 0s 39ms/step - loss: 0.1207 - accuracy: 0.9697\n",
      "Epoch 16/20\n",
      "2/2 [==============================] - 0s 39ms/step - loss: 0.0772 - accuracy: 0.9697\n",
      "Epoch 17/20\n",
      "2/2 [==============================] - 0s 38ms/step - loss: 0.0890 - accuracy: 0.9697\n",
      "Epoch 18/20\n",
      "2/2 [==============================] - 0s 38ms/step - loss: 0.0564 - accuracy: 1.0000\n",
      "Epoch 19/20\n",
      "2/2 [==============================] - 0s 38ms/step - loss: 0.0447 - accuracy: 1.0000\n",
      "Epoch 20/20\n",
      "2/2 [==============================] - 0s 40ms/step - loss: 0.0857 - accuracy: 1.0000\n",
      "1/1 [==============================] - 0s 237ms/step - loss: 0.1096 - accuracy: 1.0000\n",
      "1.0\n",
      "INFO:tensorflow:Assets written to: ./mymodel\\assets\n"
     ]
    },
    {
     "name": "stderr",
     "output_type": "stream",
     "text": [
      "INFO:tensorflow:Assets written to: ./mymodel\\assets\n"
     ]
    }
   ],
   "source": [
    "from sklearn.model_selection import train_test_split\n",
    "X_train, X_test, y_train, y_test = train_test_split(np.array(X), np.array(y), \n",
    "                                                    test_size=0.2, random_state=42)\n",
    "#X_train=X_train.reshape([-1,120,120,1])\n",
    "#X_test=X_test.reshape([-1,120,120,1])\n",
    "\n",
    "\n",
    "import tensorflow as tf\n",
    "from tensorflow.keras import layers\n",
    "from tensorflow.keras import models\n",
    "\n",
    "import random\n",
    "\n",
    "random.seed(42)\n",
    "np.random.seed(42)\n",
    "tf.random.set_seed(42)\n",
    "\n",
    "cnnModel = models.Sequential()\n",
    "\n",
    "cnnModel.add(layers.Conv2D(10, (3,3), activation=\"relu\", \n",
    "                           input_shape=(120,120,3)))\n",
    "\n",
    "cnnModel.add(layers.MaxPooling2D((2,2)))\n",
    "\n",
    "cnnModel.add(layers.Conv2D(64, (3,3), activation=\"relu\"))\n",
    "\n",
    "cnnModel.add(layers.MaxPooling2D((2,2)))\n",
    "\n",
    "cnnModel.add(layers.Conv2D(64, (3,3), activation=\"relu\"))\n",
    "\n",
    "cnnModel.add(layers.Flatten())\n",
    "\n",
    "cnnModel.add(layers.Dense(64, activation=\"relu\"))\n",
    "\n",
    "cnnModel.add(layers.Dense(32, activation=\"relu\"))\n",
    "\n",
    "cnnModel.add(layers.Dense(1, activation=\"sigmoid\"))\n",
    "\n",
    "cnnModel.summary()\n",
    "\n",
    "\n",
    "cnnModel.compile(optimizer=\"adam\", loss=\"binary_crossentropy\",metrics=[\"accuracy\"])\n",
    "\n",
    "\n",
    "cnnModel.fit(X_train, y_train, epochs=20, batch_size=32)\n",
    "\n",
    "testLoss, testAccuracy = cnnModel.evaluate(X_test, y_test)\n",
    "\n",
    "print(testAccuracy)\n",
    "\n",
    "cnnModel.save_weights('./my_checkpoint')\n",
    "cnnModel.save(\"./mymodel\")"
   ]
  },
  {
   "cell_type": "code",
   "execution_count": 14,
   "metadata": {},
   "outputs": [
    {
     "name": "stdout",
     "output_type": "stream",
     "text": [
      "1/1 [==============================] - 0s 183ms/step\n"
     ]
    }
   ],
   "source": [
    "y_pred = (cnnModel.predict(X_test) > 0.5).astype(\"int32\")"
   ]
  },
  {
   "cell_type": "markdown",
   "metadata": {},
   "source": [
    "print(y_pred)"
   ]
  },
  {
   "cell_type": "code",
   "execution_count": 15,
   "metadata": {},
   "outputs": [
    {
     "data": {
      "text/plain": [
       "<Axes: >"
      ]
     },
     "execution_count": 15,
     "metadata": {},
     "output_type": "execute_result"
    },
    {
     "data": {
      "image/png": "[encoded data removed]",
      "text/plain": [
       "<Figure size 640x480 with 2 Axes>"
      ]
     },
     "metadata": {},
     "output_type": "display_data"
    }
   ],
   "source": [
    "from sklearn.metrics import confusion_matrix\n",
    "import seaborn as sns\n",
    "\n",
    "cm = confusion_matrix(y_test, y_pred)\n",
    "sns.heatmap(cm,cmap='Greens', annot=True, xticklabels = [\"Lemon\", \"Melon\"],yticklabels = [\"Lemon\", \"Melon\"])\n"
   ]
  },
  {
   "cell_type": "code",
   "execution_count": 16,
   "metadata": {},
   "outputs": [
    {
     "name": "stdout",
     "output_type": "stream",
     "text": [
      "1/1 [==============================] - 0s 107ms/step\n"
     ]
    },
    {
     "data": {
      "image/png": "[encoded data removed]",
      "text/plain": [
       "<Figure size 640x480 with 1 Axes>"
      ]
     },
     "metadata": {},
     "output_type": "display_data"
    }
   ],
   "source": [
    "from sklearn.metrics import roc_curve\n",
    "from matplotlib import pyplot as plt\n",
    "\n",
    "pred_prob = cnnModel.predict(X_test)\n",
    "pr1, tpr1, thresh1 = roc_curve(y_test, pred_prob, pos_label=1)\n",
    "\n",
    "\n",
    "random_probs = [0 for i in range(len(y_test))]\n",
    "p_fpr, p_tpr, _ = roc_curve(y_test, random_probs, pos_label=1)\n",
    "\n",
    "plt.plot(pr1, tpr1, linestyle='--', label='CNN')\n",
    "plt.plot(p_fpr, p_tpr, linestyle='--')\n",
    "\n",
    "plt.xlabel('False Positive Rate')\n",
    "plt.ylabel('True Positive Rate')\n",
    "plt.legend()\n",
    "plt.show()"
   ]
  },
  {
   "cell_type": "markdown",
   "metadata": {},
   "source": [
    "https://www.analyticsvidhya.com/blog/2020/06/auc-roc-curve-machine-learning/"
   ]
  },
  {
   "cell_type": "code",
   "execution_count": null,
   "metadata": {},
   "outputs": [],
   "source": []
  }
 ],
 "metadata": {
  "kernelspec": {
   "display_name": "Python 3 (ipykernel)",
   "language": "python",
   "name": "python3"
  },
  "language_info": {
   "codemirror_mode": {
    "name": "ipython",
    "version": 3
   },
   "file_extension": ".py",
   "mimetype": "text/x-python",
   "name": "python",
   "nbconvert_exporter": "python",
   "pygments_lexer": "ipython3",
   "version": "3.11.4"
  }
 },
 "nbformat": 4,
 "nbformat_minor": 2
}
