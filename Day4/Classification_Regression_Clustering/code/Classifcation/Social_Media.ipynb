{
 "cells": [
  {
   "cell_type": "code",
   "execution_count": null,
   "metadata": {
    "executionInfo": {
     "elapsed": 1296,
     "status": "ok",
     "timestamp": 1654074060636,
     "user": {
      "displayName": "ASHNA MERIN PHILIP BCA & AI",
      "userId": "04245475356117356703"
     },
     "user_tz": -330
    },
    "id": "_afZHDs_Uyc9"
   },
   "outputs": [],
   "source": [
    "import numpy as np\n",
    "import matplotlib.pyplot as plt\n",
    "import pandas as pd\n",
    "import sklearn"
   ]
  },
  {
   "cell_type": "code",
   "execution_count": null,
   "metadata": {
    "colab": {
     "base_uri": "https://localhost:8080/"
    },
    "executionInfo": {
     "elapsed": 361,
     "status": "ok",
     "timestamp": 1654074086506,
     "user": {
      "displayName": "ASHNA MERIN PHILIP BCA & AI",
      "userId": "04245475356117356703"
     },
     "user_tz": -330
    },
    "id": "zSzpacQrU-ZA",
    "outputId": "e46d77d7-912d-4d50-a282-0e365f300c53"
   },
   "outputs": [],
   "source": [
    "dataset = pd.read_csv('Social_Network_Ads.csv')\n",
    "X = dataset.iloc[:, [1, 2, 3]].values\n",
    "y = dataset.iloc[:, -1].values\n",
    "print(dataset)"
   ]
  },
  {
   "cell_type": "code",
   "execution_count": null,
   "metadata": {
    "colab": {
     "base_uri": "https://localhost:8080/"
    },
    "executionInfo": {
     "elapsed": 314,
     "status": "ok",
     "timestamp": 1654074104974,
     "user": {
      "displayName": "ASHNA MERIN PHILIP BCA & AI",
      "userId": "04245475356117356703"
     },
     "user_tz": -330
    },
    "id": "Cj0mQqVQVRBw",
    "outputId": "f6a9e7cc-cbe2-49ac-e825-764f8f670d8c"
   },
   "outputs": [],
   "source": [
    "from sklearn.preprocessing import LabelEncoder\n",
    "le = LabelEncoder()\n",
    "X[:,0] = le.fit_transform(X[:,0])\n",
    "#Since our dataset containing character variables we have to encode it using LabelEncoder\n",
    "print(X)"
   ]
  },
  {
   "cell_type": "code",
   "execution_count": null,
   "metadata": {
    "executionInfo": {
     "elapsed": 1353,
     "status": "ok",
     "timestamp": 1654074143481,
     "user": {
      "displayName": "ASHNA MERIN PHILIP BCA & AI",
      "userId": "04245475356117356703"
     },
     "user_tz": -330
    },
    "id": "FqVS5ttXVRGS"
   },
   "outputs": [],
   "source": [
    "from sklearn.model_selection import train_test_split\n",
    "X_train, X_test, y_train, y_test = train_test_split(X, y, test_size = 0.20, random_state = 0)"
   ]
  },
  {
   "cell_type": "code",
   "execution_count": null,
   "metadata": {
    "colab": {
     "base_uri": "https://localhost:8080/"
    },
    "executionInfo": {
     "elapsed": 562,
     "status": "ok",
     "timestamp": 1654074280465,
     "user": {
      "displayName": "ASHNA MERIN PHILIP BCA & AI",
      "userId": "04245475356117356703"
     },
     "user_tz": -330
    },
    "id": "ha8pDbRPVwJo",
    "outputId": "31c4aa80-5a0d-474f-f0d1-f31cbb200313"
   },
   "outputs": [],
   "source": [
    "from sklearn.preprocessing import StandardScaler\n",
    "sc = StandardScaler() #\n",
    "X_train = sc.fit_transform(X_train)\n",
    "X_test = sc.transform(X_test)\n",
    "print(X_test)"
   ]
  },
  {
   "cell_type": "code",
   "execution_count": null,
   "metadata": {
    "id": "sc5xiJ0-gkSr"
   },
   "outputs": [],
   "source": [
    "from sklearn.preprocessing import StandardScaler\n",
    "sc = StandardScaler() #\n",
    "X_train = sc.fit_transform(X_train)\n",
    "X_test = sc.transform(X_test)\n",
    "print()"
   ]
  },
  {
   "cell_type": "code",
   "execution_count": null,
   "metadata": {
    "colab": {
     "base_uri": "https://localhost:8080/"
    },
    "executionInfo": {
     "elapsed": 3,
     "status": "ok",
     "timestamp": 1654074364159,
     "user": {
      "displayName": "ASHNA MERIN PHILIP BCA & AI",
      "userId": "04245475356117356703"
     },
     "user_tz": -330
    },
    "id": "isJ7pcGCV36v",
    "outputId": "7e9d8848-5f15-421a-92b6-99213b63cac0"
   },
   "outputs": [],
   "source": [
    "from sklearn.neighbors import KNeighborsClassifier#model generated\n",
    "classifier = KNeighborsClassifier(n_neighbors = 5, metric = 'minkowski', p = 2)\n",
    "classifier.fit(X_train, y_train)"
   ]
  },
  {
   "cell_type": "code",
   "execution_count": null,
   "metadata": {
    "executionInfo": {
     "elapsed": 335,
     "status": "ok",
     "timestamp": 1654074361323,
     "user": {
      "displayName": "ASHNA MERIN PHILIP BCA & AI",
      "userId": "04245475356117356703"
     },
     "user_tz": -330
    },
    "id": "7uURs7vUWZIj"
   },
   "outputs": [],
   "source": [
    "y_pred = classifier.predict(X_test)"
   ]
  },
  {
   "cell_type": "code",
   "execution_count": null,
   "metadata": {
    "colab": {
     "base_uri": "https://localhost:8080/"
    },
    "executionInfo": {
     "elapsed": 324,
     "status": "ok",
     "timestamp": 1654074428249,
     "user": {
      "displayName": "ASHNA MERIN PHILIP BCA & AI",
      "userId": "04245475356117356703"
     },
     "user_tz": -330
    },
    "id": "KhRkL6bdWcKV",
    "outputId": "cf22e92f-6b73-4177-e4c3-006265670578"
   },
   "outputs": [],
   "source": [
    "from sklearn.metrics import confusion_matrix,accuracy_score\n",
    "cm = confusion_matrix(y_test, y_pred)#purchsed or not\n",
    "ac = accuracy_score(y_test,y_pred)\n",
    "print(cm, ac)"
   ]
  },
  {
   "cell_type": "code",
   "execution_count": null,
   "metadata": {
    "colab": {
     "base_uri": "https://localhost:8080/"
    },
    "executionInfo": {
     "elapsed": 351,
     "status": "ok",
     "timestamp": 1654074819983,
     "user": {
      "displayName": "ASHNA MERIN PHILIP BCA & AI",
      "userId": "04245475356117356703"
     },
     "user_tz": -330
    },
    "id": "Qvh3OASaW14w",
    "outputId": "c22c423d-ffe3-47af-a4ea-f38bb2bd7a1e"
   },
   "outputs": [],
   "source": [
    "pred = classifier.predict([[0,50,20000]])\n",
    "print(pred)\n",
    "from sklearn.metrics import classification_report\n",
    "print(classification_report(y_test, y_pred))"
   ]
  },
  {
   "cell_type": "code",
   "execution_count": null,
   "metadata": {
    "colab": {
     "base_uri": "https://localhost:8080/",
     "height": 235
    },
    "executionInfo": {
     "elapsed": 323,
     "status": "error",
     "timestamp": 1654074606871,
     "user": {
      "displayName": "ASHNA MERIN PHILIP BCA & AI",
      "userId": "04245475356117356703"
     },
     "user_tz": -330
    },
    "id": "NyB5noi1EXmO",
    "outputId": "982d6d49-6663-45e2-dd97-78b0dc3fb60a"
   },
   "outputs": [],
   "source": [
    "from sklearn.ensemble import RandomForestClassifier\n",
    "\n",
    "model = RandomForestClassifier(max_depth=5, random_state=0)\n",
    "\n",
    "model.fit(X_train, y_train)\n",
    "y_pred=model.predict(X_test)\n",
    "\n",
    "from sklearn.metrics import accuracy_score\n",
    "print(accuracy_score(y_test,y_pred))\n",
    "\n",
    "\n",
    "from sklearn.metrics import confusion_matrix\n",
    "print(confusion_matrix(y_test, y_pred))\n",
    "\n",
    "\n",
    "from sklearn.metrics import classification_report\n",
    "print(classification_report(y_test, y_pred))"
   ]
  },
  {
   "cell_type": "code",
   "execution_count": null,
   "metadata": {
    "id": "JBjopsWWWxyN"
   },
   "outputs": [],
   "source": []
  },
  {
   "cell_type": "code",
   "execution_count": null,
   "metadata": {
    "id": "rtjbwHuwEXmQ"
   },
   "outputs": [],
   "source": []
  }
 ],
 "metadata": {
  "colab": {
   "collapsed_sections": [],
   "name": "classification.ipynb",
   "provenance": []
  },
  "kernelspec": {
   "display_name": "Python 3 (ipykernel)",
   "language": "python",
   "name": "python3"
  },
  "language_info": {
   "codemirror_mode": {
    "name": "ipython",
    "version": 3
   },
   "file_extension": ".py",
   "mimetype": "text/x-python",
   "name": "python",
   "nbconvert_exporter": "python",
   "pygments_lexer": "ipython3",
   "version": "3.8.5"
  }
 },
 "nbformat": 4,
 "nbformat_minor": 1
}
