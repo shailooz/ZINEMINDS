{
 "cells": [
  {
   "cell_type": "code",
   "execution_count": 23,
   "metadata": {
    "colab": {
     "base_uri": "https://localhost:8080/",
     "height": 397
    },
    "executionInfo": {
     "elapsed": 344,
     "status": "error",
     "timestamp": 1654074936614,
     "user": {
      "displayName": "ASHNA MERIN PHILIP BCA & AI",
      "userId": "04245475356117356703"
     },
     "user_tz": -330
    },
    "id": "TtO-1U-LEXl-",
    "outputId": "7419ab3f-9141-4460-ea72-ed003f0dc190"
   },
   "outputs": [
    {
     "name": "stdout",
     "output_type": "stream",
     "text": [
      "          RI     Na    Mg    Al     Si     K    Ca    Ba   Fe  Type\n",
      "0    1.52101  13.64  4.49  1.10  71.78  0.06  8.75  0.00  0.0     1\n",
      "1    1.51761  13.89  3.60  1.36  72.73  0.48  7.83  0.00  0.0     1\n",
      "2    1.51618  13.53  3.55  1.54  72.99  0.39  7.78  0.00  0.0     1\n",
      "3    1.51766  13.21  3.69  1.29  72.61  0.57  8.22  0.00  0.0     1\n",
      "4    1.51742  13.27  3.62  1.24  73.08  0.55  8.07  0.00  0.0     1\n",
      "..       ...    ...   ...   ...    ...   ...   ...   ...  ...   ...\n",
      "209  1.51623  14.14  0.00  2.88  72.61  0.08  9.18  1.06  0.0     7\n",
      "210  1.51685  14.92  0.00  1.99  73.06  0.00  8.40  1.59  0.0     7\n",
      "211  1.52065  14.36  0.00  2.02  73.42  0.00  8.44  1.64  0.0     7\n",
      "212  1.51651  14.38  0.00  1.94  73.61  0.00  8.48  1.57  0.0     7\n",
      "213  1.51711  14.23  0.00  2.08  73.36  0.00  8.62  1.67  0.0     7\n",
      "\n",
      "[214 rows x 10 columns]\n",
      "[1 2 3 5 6 7]\n"
     ]
    }
   ],
   "source": [
    "import numpy as np # linear algebra\n",
    "import pandas as pd # data processing, CSV file I/O (e.g. pd.read_csv)\n",
    "from sklearn.model_selection import train_test_split\n",
    "import matplotlib.pyplot as plt\n",
    "glassdata = pd.read_csv('glass.csv') \n",
    "print(glassdata)\n",
    "print(np.unique(glassdata['Type']))\n",
    "# Notice that in the description, it has 1-7 types, but the dataset does not have Type 4"
   ]
  },
  {
   "cell_type": "code",
   "execution_count": 24,
   "metadata": {
    "colab": {
     "base_uri": "https://localhost:8080/",
     "height": 300
    },
    "id": "yOvTRM2dEXmF",
    "outputId": "863ef175-14fd-4d06-feaf-e43ff2a718af"
   },
   "outputs": [
    {
     "data": {
      "text/html": [
       "<div>\n",
       "<style scoped>\n",
       "    .dataframe tbody tr th:only-of-type {\n",
       "        vertical-align: middle;\n",
       "    }\n",
       "\n",
       "    .dataframe tbody tr th {\n",
       "        vertical-align: top;\n",
       "    }\n",
       "\n",
       "    .dataframe thead th {\n",
       "        text-align: right;\n",
       "    }\n",
       "</style>\n",
       "<table border=\"1\" class=\"dataframe\">\n",
       "  <thead>\n",
       "    <tr style=\"text-align: right;\">\n",
       "      <th></th>\n",
       "      <th>RI</th>\n",
       "      <th>Na</th>\n",
       "      <th>Mg</th>\n",
       "      <th>Al</th>\n",
       "      <th>Si</th>\n",
       "      <th>K</th>\n",
       "      <th>Ca</th>\n",
       "      <th>Ba</th>\n",
       "      <th>Fe</th>\n",
       "      <th>Type</th>\n",
       "    </tr>\n",
       "  </thead>\n",
       "  <tbody>\n",
       "    <tr>\n",
       "      <th>count</th>\n",
       "      <td>214.000000</td>\n",
       "      <td>214.000000</td>\n",
       "      <td>214.000000</td>\n",
       "      <td>214.000000</td>\n",
       "      <td>214.000000</td>\n",
       "      <td>214.000000</td>\n",
       "      <td>214.000000</td>\n",
       "      <td>214.000000</td>\n",
       "      <td>214.000000</td>\n",
       "      <td>214.000000</td>\n",
       "    </tr>\n",
       "    <tr>\n",
       "      <th>mean</th>\n",
       "      <td>1.518365</td>\n",
       "      <td>13.407850</td>\n",
       "      <td>2.684533</td>\n",
       "      <td>1.444907</td>\n",
       "      <td>72.650935</td>\n",
       "      <td>0.497056</td>\n",
       "      <td>8.956963</td>\n",
       "      <td>0.175047</td>\n",
       "      <td>0.057009</td>\n",
       "      <td>2.780374</td>\n",
       "    </tr>\n",
       "    <tr>\n",
       "      <th>std</th>\n",
       "      <td>0.003037</td>\n",
       "      <td>0.816604</td>\n",
       "      <td>1.442408</td>\n",
       "      <td>0.499270</td>\n",
       "      <td>0.774546</td>\n",
       "      <td>0.652192</td>\n",
       "      <td>1.423153</td>\n",
       "      <td>0.497219</td>\n",
       "      <td>0.097439</td>\n",
       "      <td>2.103739</td>\n",
       "    </tr>\n",
       "    <tr>\n",
       "      <th>min</th>\n",
       "      <td>1.511150</td>\n",
       "      <td>10.730000</td>\n",
       "      <td>0.000000</td>\n",
       "      <td>0.290000</td>\n",
       "      <td>69.810000</td>\n",
       "      <td>0.000000</td>\n",
       "      <td>5.430000</td>\n",
       "      <td>0.000000</td>\n",
       "      <td>0.000000</td>\n",
       "      <td>1.000000</td>\n",
       "    </tr>\n",
       "    <tr>\n",
       "      <th>25%</th>\n",
       "      <td>1.516522</td>\n",
       "      <td>12.907500</td>\n",
       "      <td>2.115000</td>\n",
       "      <td>1.190000</td>\n",
       "      <td>72.280000</td>\n",
       "      <td>0.122500</td>\n",
       "      <td>8.240000</td>\n",
       "      <td>0.000000</td>\n",
       "      <td>0.000000</td>\n",
       "      <td>1.000000</td>\n",
       "    </tr>\n",
       "    <tr>\n",
       "      <th>50%</th>\n",
       "      <td>1.517680</td>\n",
       "      <td>13.300000</td>\n",
       "      <td>3.480000</td>\n",
       "      <td>1.360000</td>\n",
       "      <td>72.790000</td>\n",
       "      <td>0.555000</td>\n",
       "      <td>8.600000</td>\n",
       "      <td>0.000000</td>\n",
       "      <td>0.000000</td>\n",
       "      <td>2.000000</td>\n",
       "    </tr>\n",
       "    <tr>\n",
       "      <th>75%</th>\n",
       "      <td>1.519157</td>\n",
       "      <td>13.825000</td>\n",
       "      <td>3.600000</td>\n",
       "      <td>1.630000</td>\n",
       "      <td>73.087500</td>\n",
       "      <td>0.610000</td>\n",
       "      <td>9.172500</td>\n",
       "      <td>0.000000</td>\n",
       "      <td>0.100000</td>\n",
       "      <td>3.000000</td>\n",
       "    </tr>\n",
       "    <tr>\n",
       "      <th>max</th>\n",
       "      <td>1.533930</td>\n",
       "      <td>17.380000</td>\n",
       "      <td>4.490000</td>\n",
       "      <td>3.500000</td>\n",
       "      <td>75.410000</td>\n",
       "      <td>6.210000</td>\n",
       "      <td>16.190000</td>\n",
       "      <td>3.150000</td>\n",
       "      <td>0.510000</td>\n",
       "      <td>7.000000</td>\n",
       "    </tr>\n",
       "  </tbody>\n",
       "</table>\n",
       "</div>"
      ],
      "text/plain": [
       "               RI          Na          Mg          Al          Si           K  \\\n",
       "count  214.000000  214.000000  214.000000  214.000000  214.000000  214.000000   \n",
       "mean     1.518365   13.407850    2.684533    1.444907   72.650935    0.497056   \n",
       "std      0.003037    0.816604    1.442408    0.499270    0.774546    0.652192   \n",
       "min      1.511150   10.730000    0.000000    0.290000   69.810000    0.000000   \n",
       "25%      1.516522   12.907500    2.115000    1.190000   72.280000    0.122500   \n",
       "50%      1.517680   13.300000    3.480000    1.360000   72.790000    0.555000   \n",
       "75%      1.519157   13.825000    3.600000    1.630000   73.087500    0.610000   \n",
       "max      1.533930   17.380000    4.490000    3.500000   75.410000    6.210000   \n",
       "\n",
       "               Ca          Ba          Fe        Type  \n",
       "count  214.000000  214.000000  214.000000  214.000000  \n",
       "mean     8.956963    0.175047    0.057009    2.780374  \n",
       "std      1.423153    0.497219    0.097439    2.103739  \n",
       "min      5.430000    0.000000    0.000000    1.000000  \n",
       "25%      8.240000    0.000000    0.000000    1.000000  \n",
       "50%      8.600000    0.000000    0.000000    2.000000  \n",
       "75%      9.172500    0.000000    0.100000    3.000000  \n",
       "max     16.190000    3.150000    0.510000    7.000000  "
      ]
     },
     "execution_count": 24,
     "metadata": {},
     "output_type": "execute_result"
    }
   ],
   "source": [
    "glassdata.describe()"
   ]
  },
  {
   "cell_type": "code",
   "execution_count": 25,
   "metadata": {
    "colab": {
     "base_uri": "https://localhost:8080/"
    },
    "id": "usDKNNvSEXmG",
    "outputId": "010ba7e6-d763-4220-b1a1-391c7d120491"
   },
   "outputs": [
    {
     "name": "stdout",
     "output_type": "stream",
     "text": [
      "0.822429906542056\n",
      "0.6728971962616822\n"
     ]
    }
   ],
   "source": [
    "print ((glassdata['Ba']==0).sum()/len(glassdata))\n",
    "print ((glassdata['Fe']==0).sum()/len(glassdata))"
   ]
  },
  {
   "cell_type": "code",
   "execution_count": 26,
   "metadata": {
    "id": "8fp-NphFEXmH"
   },
   "outputs": [],
   "source": [
    "glassdata.drop('Ba',axis=1,inplace=True)\n",
    "glassdata.drop('Fe',axis=1,inplace=True)"
   ]
  },
  {
   "cell_type": "code",
   "execution_count": 27,
   "metadata": {
    "colab": {
     "base_uri": "https://localhost:8080/"
    },
    "id": "2povZWTZEXmI",
    "outputId": "ef5679ac-7bab-4164-9493-9f367daab441"
   },
   "outputs": [
    {
     "name": "stdout",
     "output_type": "stream",
     "text": [
      "          RI     Na    Mg    Al     Si     K    Ca  Type\n",
      "0    1.52101  13.64  4.49  1.10  71.78  0.06  8.75     1\n",
      "1    1.51761  13.89  3.60  1.36  72.73  0.48  7.83     1\n",
      "2    1.51618  13.53  3.55  1.54  72.99  0.39  7.78     1\n",
      "3    1.51766  13.21  3.69  1.29  72.61  0.57  8.22     1\n",
      "4    1.51742  13.27  3.62  1.24  73.08  0.55  8.07     1\n",
      "..       ...    ...   ...   ...    ...   ...   ...   ...\n",
      "209  1.51623  14.14  0.00  2.88  72.61  0.08  9.18     7\n",
      "210  1.51685  14.92  0.00  1.99  73.06  0.00  8.40     7\n",
      "211  1.52065  14.36  0.00  2.02  73.42  0.00  8.44     7\n",
      "212  1.51651  14.38  0.00  1.94  73.61  0.00  8.48     7\n",
      "213  1.51711  14.23  0.00  2.08  73.36  0.00  8.62     7\n",
      "\n",
      "[214 rows x 8 columns]\n"
     ]
    }
   ],
   "source": [
    "print(glassdata)"
   ]
  },
  {
   "cell_type": "code",
   "execution_count": 28,
   "metadata": {
    "id": "XwK8ckkSEXmJ"
   },
   "outputs": [],
   "source": [
    "Y=glassdata.iloc[:,-1].values\n",
    "X=glassdata.iloc[:,:-1].values\n",
    "X_train,X_test,y_train,y_test=train_test_split(X,Y,test_size=0.3)"
   ]
  },
  {
   "cell_type": "code",
   "execution_count": 29,
   "metadata": {
    "id": "j2Q6NequEXmK"
   },
   "outputs": [],
   "source": [
    "#pd.plotting.scatter_matrix(X_train, alpha=0.8, figsize=(10, 10))"
   ]
  },
  {
   "cell_type": "code",
   "execution_count": 30,
   "metadata": {
    "colab": {
     "base_uri": "https://localhost:8080/"
    },
    "id": "9c-kCQBpEXmL",
    "outputId": "d98b3f6c-50c1-42a3-c23d-afb978a5fac0"
   },
   "outputs": [
    {
     "name": "stdout",
     "output_type": "stream",
     "text": [
      "0.3076923076923077\n",
      "[[ 0 27  0  0  0]\n",
      " [ 0 20  0  0  0]\n",
      " [ 0  6  0  0  0]\n",
      " [ 0  6  0  0  0]\n",
      " [ 0  6  0  0  0]]\n",
      "              precision    recall  f1-score   support\n",
      "\n",
      "           1       0.00      0.00      0.00        27\n",
      "           2       0.31      1.00      0.47        20\n",
      "           3       0.00      0.00      0.00         6\n",
      "           5       0.00      0.00      0.00         6\n",
      "           7       0.00      0.00      0.00         6\n",
      "\n",
      "    accuracy                           0.31        65\n",
      "   macro avg       0.06      0.20      0.09        65\n",
      "weighted avg       0.09      0.31      0.14        65\n",
      "\n"
     ]
    },
    {
     "name": "stderr",
     "output_type": "stream",
     "text": [
      "C:\\Users\\shail\\anaconda3\\lib\\site-packages\\sklearn\\metrics\\_classification.py:1221: UndefinedMetricWarning: Precision and F-score are ill-defined and being set to 0.0 in labels with no predicted samples. Use `zero_division` parameter to control this behavior.\n",
      "  _warn_prf(average, modifier, msg_start, len(result))\n"
     ]
    }
   ],
   "source": [
    "from sklearn.svm import SVC\n",
    "svm = SVC(kernel='rbf',C=0.8)\n",
    "#Regularization parameter C\n",
    "#kernel{‘linear’, ‘poly’, ‘rbf’, ‘sigmoid’, ‘precomputed’} or callable, default=’rbf’\n",
    "\n",
    "svm.fit(X_train, y_train)\n",
    "y_pred=svm.predict(X_test)\n",
    "\n",
    "from sklearn.metrics import accuracy_score\n",
    "print(accuracy_score(y_test,y_pred))\n",
    "\n",
    "\n",
    "from sklearn.metrics import confusion_matrix\n",
    "print(confusion_matrix(y_test, y_pred))\n",
    "\n",
    "\n",
    "from sklearn.metrics import classification_report\n",
    "print(classification_report(y_test, y_pred))\n"
   ]
  },
  {
   "cell_type": "markdown",
   "metadata": {
    "id": "TQAGORUjjBsl"
   },
   "source": [
    "Precision = TruePositives / (TruePositives + FalsePositives)  Precision: Appropriate when minimizing false positives is the focus.\n",
    "\n",
    "Recall = TruePositives / (TruePositives + FalseNegatives)\n",
    "Recall: Appropriate when minimizing false negatives is the focus.\n",
    "\n",
    "F-Measure = (2 * Precision * Recall) / (Precision + Recall)\n"
   ]
  },
  {
   "cell_type": "code",
   "execution_count": 31,
   "metadata": {
    "colab": {
     "base_uri": "https://localhost:8080/"
    },
    "id": "2i789IPzZp0U",
    "outputId": "696b6929-2478-45e9-ce90-b674bb131ded"
   },
   "outputs": [
    {
     "name": "stdout",
     "output_type": "stream",
     "text": [
      "[2]\n"
     ]
    }
   ],
   "source": [
    "#prediction\n",
    "pre=pd.DataFrame([[1.51711,  14.23,  0.00,  2.08,  73.36,  0.00,  8.62]])\n",
    "predict_out=svm.predict(pre)\n",
    "print(predict_out)"
   ]
  },
  {
   "cell_type": "markdown",
   "metadata": {
    "id": "SncEY2juEXmM"
   },
   "source": [
    "https://www.oreilly.com/library/view/python-end-to-end-data/9781788394697/ch18s03.html"
   ]
  },
  {
   "cell_type": "markdown",
   "metadata": {
    "id": "lTjDjiW3fCcg"
   },
   "source": [
    "*KNN* K-Nearest Neighbour algorithum"
   ]
  },
  {
   "cell_type": "code",
   "execution_count": 32,
   "metadata": {
    "executionInfo": {
     "elapsed": 1296,
     "status": "ok",
     "timestamp": 1654074060636,
     "user": {
      "displayName": "ASHNA MERIN PHILIP BCA & AI",
      "userId": "04245475356117356703"
     },
     "user_tz": -330
    },
    "id": "_afZHDs_Uyc9"
   },
   "outputs": [],
   "source": [
    "import numpy as np\n",
    "import matplotlib.pyplot as plt\n",
    "import pandas as pd\n",
    "import sklearn"
   ]
  },
  {
   "cell_type": "code",
   "execution_count": 33,
   "metadata": {
    "colab": {
     "base_uri": "https://localhost:8080/"
    },
    "executionInfo": {
     "elapsed": 361,
     "status": "ok",
     "timestamp": 1654074086506,
     "user": {
      "displayName": "ASHNA MERIN PHILIP BCA & AI",
      "userId": "04245475356117356703"
     },
     "user_tz": -330
    },
    "id": "zSzpacQrU-ZA",
    "outputId": "e46d77d7-912d-4d50-a282-0e365f300c53"
   },
   "outputs": [
    {
     "name": "stdout",
     "output_type": "stream",
     "text": [
      "      User ID  Gender  Age  EstimatedSalary  Purchased\n",
      "0    15624510    Male   19            19000          0\n",
      "1    15810944    Male   35            20000          0\n",
      "2    15668575  Female   26            43000          0\n",
      "3    15603246  Female   27            57000          0\n",
      "4    15804002    Male   19            76000          0\n",
      "..        ...     ...  ...              ...        ...\n",
      "395  15691863  Female   46            41000          1\n",
      "396  15706071    Male   51            23000          1\n",
      "397  15654296  Female   50            20000          1\n",
      "398  15755018    Male   36            33000          0\n",
      "399  15594041  Female   49            36000          1\n",
      "\n",
      "[400 rows x 5 columns]\n"
     ]
    }
   ],
   "source": [
    "dataset = pd.read_csv('Social_Network_Ads.csv')\n",
    "X = dataset.iloc[:, [1, 2, 3]].values\n",
    "y = dataset.iloc[:, -1].values\n",
    "print(dataset)"
   ]
  },
  {
   "cell_type": "code",
   "execution_count": 34,
   "metadata": {
    "colab": {
     "base_uri": "https://localhost:8080/"
    },
    "executionInfo": {
     "elapsed": 314,
     "status": "ok",
     "timestamp": 1654074104974,
     "user": {
      "displayName": "ASHNA MERIN PHILIP BCA & AI",
      "userId": "04245475356117356703"
     },
     "user_tz": -330
    },
    "id": "Cj0mQqVQVRBw",
    "outputId": "f6a9e7cc-cbe2-49ac-e825-764f8f670d8c"
   },
   "outputs": [
    {
     "name": "stdout",
     "output_type": "stream",
     "text": [
      "[[1 19 19000]\n",
      " [1 35 20000]\n",
      " [0 26 43000]\n",
      " ...\n",
      " [0 50 20000]\n",
      " [1 36 33000]\n",
      " [0 49 36000]]\n"
     ]
    }
   ],
   "source": [
    "from sklearn.preprocessing import LabelEncoder\n",
    "le = LabelEncoder()\n",
    "X[:,0] = le.fit_transform(X[:,0])\n",
    "#Since our dataset containing character variables we have to encode it using LabelEncoder\n",
    "print(X)"
   ]
  },
  {
   "cell_type": "code",
   "execution_count": 35,
   "metadata": {
    "executionInfo": {
     "elapsed": 1353,
     "status": "ok",
     "timestamp": 1654074143481,
     "user": {
      "displayName": "ASHNA MERIN PHILIP BCA & AI",
      "userId": "04245475356117356703"
     },
     "user_tz": -330
    },
    "id": "FqVS5ttXVRGS"
   },
   "outputs": [],
   "source": [
    "from sklearn.model_selection import train_test_split\n",
    "X_train, X_test, y_train, y_test = train_test_split(X, y, test_size = 0.20, random_state = 0)"
   ]
  },
  {
   "cell_type": "code",
   "execution_count": 36,
   "metadata": {
    "colab": {
     "base_uri": "https://localhost:8080/"
    },
    "executionInfo": {
     "elapsed": 562,
     "status": "ok",
     "timestamp": 1654074280465,
     "user": {
      "displayName": "ASHNA MERIN PHILIP BCA & AI",
      "userId": "04245475356117356703"
     },
     "user_tz": -330
    },
    "id": "ha8pDbRPVwJo",
    "outputId": "31c4aa80-5a0d-474f-f0d1-f31cbb200313"
   },
   "outputs": [
    {
     "name": "stdout",
     "output_type": "stream",
     "text": [
      "[[ 1.02532046e+00 -7.98950822e-01  4.94607583e-01]\n",
      " [-9.75304830e-01 -2.12648508e-02 -5.77359062e-01]\n",
      " [ 1.02532046e+00 -3.12897090e-01  1.46942725e-01]\n",
      " [-9.75304830e-01 -7.98950822e-01  2.62831011e-01]\n",
      " [-9.75304830e-01 -3.12897090e-01 -5.77359062e-01]\n",
      " [ 1.02532046e+00 -1.09058306e+00 -1.44652121e+00]\n",
      " [-9.75304830e-01 -7.01740076e-01 -1.59138156e+00]\n",
      " [ 1.02532046e+00 -2.15686344e-01  2.14601566e+00]\n",
      " [-9.75304830e-01 -1.96547978e+00 -5.58617754e-02]\n",
      " [ 1.02532046e+00  8.53631867e-01 -7.80163563e-01]\n",
      " [ 1.02532046e+00 -7.98950822e-01 -6.06331134e-01]\n",
      " [-9.75304830e-01 -9.93372315e-01 -4.32498705e-01]\n",
      " [ 1.02532046e+00 -1.18475597e-01 -4.32498705e-01]\n",
      " [ 1.02532046e+00  7.59458956e-02  2.04886868e-01]\n",
      " [ 1.02532046e+00 -1.77105829e+00  4.65635512e-01]\n",
      " [-9.75304830e-01 -6.04529329e-01  1.36376973e+00]\n",
      " [ 1.02532046e+00 -1.18475597e-01  2.04886868e-01]\n",
      " [ 1.02532046e+00 -1.86826903e+00  4.36663440e-01]\n",
      " [-9.75304830e-01  1.63131784e+00  1.74040666e+00]\n",
      " [ 1.02532046e+00 -3.12897090e-01 -1.38857706e+00]\n",
      " [-9.75304830e-01 -3.12897090e-01 -6.64275277e-01]\n",
      " [-9.75304830e-01  8.53631867e-01  2.14601566e+00]\n",
      " [-9.75304830e-01  2.70367388e-01 -5.48386991e-01]\n",
      " [ 1.02532046e+00  8.53631867e-01  1.01610487e+00]\n",
      " [-9.75304830e-01 -1.47942605e+00 -1.21474464e+00]\n",
      " [-9.75304830e-01  1.04805336e+00  2.05909944e+00]\n",
      " [-9.75304830e-01 -9.93372315e-01  4.94607583e-01]\n",
      " [ 1.02532046e+00 -8.96161568e-01  2.91803083e-01]\n",
      " [-9.75304830e-01 -1.18475597e-01 -2.29694204e-01]\n",
      " [-9.75304830e-01 -6.04529329e-01  4.65635512e-01]\n",
      " [ 1.02532046e+00 -1.67384754e+00  5.23579655e-01]\n",
      " [ 1.02532046e+00 -1.18475597e-01  2.62831011e-01]\n",
      " [ 1.02532046e+00  1.82573933e+00 -2.87638347e-01]\n",
      " [ 1.02532046e+00 -1.18475597e-01 -4.90442848e-01]\n",
      " [ 1.02532046e+00 -1.38221530e+00 -3.45582490e-01]\n",
      " [ 1.02532046e+00 -1.96547978e+00 -5.19414919e-01]\n",
      " [ 1.02532046e+00 -1.57663679e+00  3.20775154e-01]\n",
      " [-9.75304830e-01 -4.10107836e-01 -7.80163563e-01]\n",
      " [-9.75304830e-01 -7.01740076e-01 -1.04091221e+00]\n",
      " [-9.75304830e-01  1.04805336e+00 -9.82968063e-01]\n",
      " [ 1.02532046e+00 -1.09058306e+00  5.23579655e-01]\n",
      " [ 1.02532046e+00  2.70367388e-01 -5.19414919e-01]\n",
      " [-9.75304830e-01 -1.09058306e+00  4.07691369e-01]\n",
      " [ 1.02532046e+00 -3.12897090e-01 -1.44652121e+00]\n",
      " [-9.75304830e-01  4.64788881e-01  1.21890937e+00]\n",
      " [-9.75304830e-01 -1.09058306e+00 -3.45582490e-01]\n",
      " [-9.75304830e-01 -1.18475597e-01  2.91803083e-01]\n",
      " [-9.75304830e-01  1.33968560e+00  5.81523798e-01]\n",
      " [ 1.02532046e+00 -1.18779381e+00 -1.15680049e+00]\n",
      " [ 1.02532046e+00  1.04805336e+00  4.65635512e-01]\n",
      " [-9.75304830e-01  1.82573933e+00  1.50863009e+00]\n",
      " [-9.75304830e-01 -4.10107836e-01 -1.30166085e+00]\n",
      " [-9.75304830e-01 -3.12897090e-01 -3.74554562e-01]\n",
      " [ 1.02532046e+00 -4.10107836e-01  1.30582558e+00]\n",
      " [-9.75304830e-01  2.02016082e+00  5.23579655e-01]\n",
      " [ 1.02532046e+00  6.59210374e-01 -1.09885635e+00]\n",
      " [-9.75304830e-01 -8.96161568e-01  3.78719297e-01]\n",
      " [-9.75304830e-01 -1.18779381e+00  2.91803083e-01]\n",
      " [ 1.02532046e+00  1.04805336e+00 -1.21474464e+00]\n",
      " [ 1.02532046e+00 -1.47942605e+00 -1.44652121e+00]\n",
      " [ 1.02532046e+00 -6.04529329e-01 -1.50446535e+00]\n",
      " [ 1.02532046e+00  2.11737157e+00 -8.09135634e-01]\n",
      " [ 1.02532046e+00 -1.86826903e+00  1.75914797e-01]\n",
      " [ 1.02532046e+00 -2.15686344e-01  8.42272441e-01]\n",
      " [-9.75304830e-01 -1.86826903e+00 -1.27268878e+00]\n",
      " [ 1.02532046e+00  2.11737157e+00  3.78719297e-01]\n",
      " [-9.75304830e-01 -1.38221530e+00  5.52551726e-01]\n",
      " [ 1.02532046e+00 -1.09058306e+00 -3.45582490e-01]\n",
      " [ 1.02532046e+00  1.73156642e-01 -6.64275277e-01]\n",
      " [-9.75304830e-01  3.67578135e-01  2.08236764e-03]\n",
      " [-9.75304830e-01 -6.04529329e-01  2.31984809e+00]\n",
      " [-9.75304830e-01 -3.12897090e-01  2.04886868e-01]\n",
      " [-9.75304830e-01 -1.57663679e+00 -2.00722133e-01]\n",
      " [ 1.02532046e+00  6.59210374e-01 -1.38857706e+00]\n",
      " [ 1.02532046e+00 -1.09058306e+00  5.52551726e-01]\n",
      " [ 1.02532046e+00 -1.96547978e+00  3.49747226e-01]\n",
      " [-9.75304830e-01  3.67578135e-01  2.62831011e-01]\n",
      " [-9.75304830e-01  1.73156642e-01 -2.87638347e-01]\n",
      " [-9.75304830e-01  1.43689635e+00 -1.04091221e+00]\n",
      " [-9.75304830e-01  8.53631867e-01  1.07404901e+00]]\n"
     ]
    }
   ],
   "source": [
    "from sklearn.preprocessing import StandardScaler\n",
    "sc = StandardScaler() #\n",
    "X_train = sc.fit_transform(X_train)\n",
    "X_test = sc.transform(X_test)\n",
    "print(X_test)"
   ]
  },
  {
   "cell_type": "code",
   "execution_count": 37,
   "metadata": {
    "id": "sc5xiJ0-gkSr"
   },
   "outputs": [
    {
     "name": "stdout",
     "output_type": "stream",
     "text": [
      "\n"
     ]
    }
   ],
   "source": [
    "from sklearn.preprocessing import StandardScaler\n",
    "sc = StandardScaler() #\n",
    "X_train = sc.fit_transform(X_train)\n",
    "X_test = sc.transform(X_test)\n",
    "print()"
   ]
  },
  {
   "cell_type": "code",
   "execution_count": 38,
   "metadata": {
    "colab": {
     "base_uri": "https://localhost:8080/"
    },
    "executionInfo": {
     "elapsed": 3,
     "status": "ok",
     "timestamp": 1654074364159,
     "user": {
      "displayName": "ASHNA MERIN PHILIP BCA & AI",
      "userId": "04245475356117356703"
     },
     "user_tz": -330
    },
    "id": "isJ7pcGCV36v",
    "outputId": "7e9d8848-5f15-421a-92b6-99213b63cac0"
   },
   "outputs": [
    {
     "data": {
      "text/plain": [
       "KNeighborsClassifier()"
      ]
     },
     "execution_count": 38,
     "metadata": {},
     "output_type": "execute_result"
    }
   ],
   "source": [
    "from sklearn.neighbors import KNeighborsClassifier#model generated\n",
    "classifier = KNeighborsClassifier(n_neighbors = 5, metric = 'minkowski', p = 2)\n",
    "#p = 1, this is equivalent to using manhattan_distance (l1), and euclidean_distance (l2) for p = 2\n",
    "#metric = 'minkowski'- Distance metric is used\n",
    "classifier.fit(X_train, y_train)\n"
   ]
  },
  {
   "cell_type": "code",
   "execution_count": 39,
   "metadata": {
    "executionInfo": {
     "elapsed": 335,
     "status": "ok",
     "timestamp": 1654074361323,
     "user": {
      "displayName": "ASHNA MERIN PHILIP BCA & AI",
      "userId": "04245475356117356703"
     },
     "user_tz": -330
    },
    "id": "7uURs7vUWZIj"
   },
   "outputs": [],
   "source": [
    "y_pred = classifier.predict(X_test)"
   ]
  },
  {
   "cell_type": "code",
   "execution_count": 40,
   "metadata": {
    "colab": {
     "base_uri": "https://localhost:8080/"
    },
    "executionInfo": {
     "elapsed": 324,
     "status": "ok",
     "timestamp": 1654074428249,
     "user": {
      "displayName": "ASHNA MERIN PHILIP BCA & AI",
      "userId": "04245475356117356703"
     },
     "user_tz": -330
    },
    "id": "KhRkL6bdWcKV",
    "outputId": "cf22e92f-6b73-4177-e4c3-006265670578"
   },
   "outputs": [
    {
     "name": "stdout",
     "output_type": "stream",
     "text": [
      "[[55  3]\n",
      " [ 1 21]] 0.95\n"
     ]
    }
   ],
   "source": [
    "from sklearn.metrics import confusion_matrix,accuracy_score\n",
    "cm = confusion_matrix(y_test, y_pred)#purchsed or not\n",
    "ac = accuracy_score(y_test,y_pred)\n",
    "print(cm, ac)"
   ]
  },
  {
   "cell_type": "code",
   "execution_count": 41,
   "metadata": {
    "colab": {
     "base_uri": "https://localhost:8080/"
    },
    "executionInfo": {
     "elapsed": 351,
     "status": "ok",
     "timestamp": 1654074819983,
     "user": {
      "displayName": "ASHNA MERIN PHILIP BCA & AI",
      "userId": "04245475356117356703"
     },
     "user_tz": -330
    },
    "id": "Qvh3OASaW14w",
    "outputId": "c22c423d-ffe3-47af-a4ea-f38bb2bd7a1e"
   },
   "outputs": [
    {
     "name": "stdout",
     "output_type": "stream",
     "text": [
      "[1]\n",
      "              precision    recall  f1-score   support\n",
      "\n",
      "           0       0.98      0.95      0.96        58\n",
      "           1       0.88      0.95      0.91        22\n",
      "\n",
      "    accuracy                           0.95        80\n",
      "   macro avg       0.93      0.95      0.94        80\n",
      "weighted avg       0.95      0.95      0.95        80\n",
      "\n"
     ]
    }
   ],
   "source": [
    "pred = classifier.predict([[0,50,20000]])\n",
    "print(pred)\n",
    "from sklearn.metrics import classification_report\n",
    "print(classification_report(y_test, y_pred))"
   ]
  },
  {
   "cell_type": "code",
   "execution_count": null,
   "metadata": {
    "colab": {
     "base_uri": "https://localhost:8080/"
    },
    "id": "f1-Wul14W2Ei",
    "outputId": "56dc76b9-ee64-49a2-b939-e521f60a1d8d"
   },
   "outputs": [],
   "source": []
  },
  {
   "cell_type": "code",
   "execution_count": 42,
   "metadata": {
    "id": "jGRcLhmqZevY"
   },
   "outputs": [],
   "source": [
    "#RandomForestClassifier"
   ]
  },
  {
   "cell_type": "code",
   "execution_count": 43,
   "metadata": {
    "colab": {
     "base_uri": "https://localhost:8080/",
     "height": 235
    },
    "executionInfo": {
     "elapsed": 323,
     "status": "error",
     "timestamp": 1654074606871,
     "user": {
      "displayName": "ASHNA MERIN PHILIP BCA & AI",
      "userId": "04245475356117356703"
     },
     "user_tz": -330
    },
    "id": "NyB5noi1EXmO",
    "outputId": "982d6d49-6663-45e2-dd97-78b0dc3fb60a"
   },
   "outputs": [
    {
     "name": "stdout",
     "output_type": "stream",
     "text": [
      "0.95\n",
      "[[55  3]\n",
      " [ 1 21]]\n",
      "              precision    recall  f1-score   support\n",
      "\n",
      "           0       0.98      0.95      0.96        58\n",
      "           1       0.88      0.95      0.91        22\n",
      "\n",
      "    accuracy                           0.95        80\n",
      "   macro avg       0.93      0.95      0.94        80\n",
      "weighted avg       0.95      0.95      0.95        80\n",
      "\n"
     ]
    }
   ],
   "source": [
    "from sklearn.ensemble import RandomForestClassifier\n",
    "\n",
    "model = RandomForestClassifier(max_depth=5, random_state=0)\n",
    "\n",
    "model.fit(X_train, y_train)\n",
    "y_pred=model.predict(X_test)\n",
    "\n",
    "from sklearn.metrics import accuracy_score\n",
    "print(accuracy_score(y_test,y_pred))\n",
    "\n",
    "\n",
    "from sklearn.metrics import confusion_matrix\n",
    "print(confusion_matrix(y_test, y_pred))\n",
    "\n",
    "\n",
    "from sklearn.metrics import classification_report\n",
    "print(classification_report(y_test, y_pred))"
   ]
  },
  {
   "cell_type": "code",
   "execution_count": null,
   "metadata": {
    "id": "JBjopsWWWxyN"
   },
   "outputs": [],
   "source": []
  },
  {
   "cell_type": "code",
   "execution_count": null,
   "metadata": {
    "id": "rtjbwHuwEXmQ"
   },
   "outputs": [],
   "source": []
  }
 ],
 "metadata": {
  "colab": {
   "collapsed_sections": [],
   "name": "classification.ipynb",
   "provenance": []
  },
  "kernelspec": {
   "display_name": "Python 3 (ipykernel)",
   "language": "python",
   "name": "python3"
  },
  "language_info": {
   "codemirror_mode": {
    "name": "ipython",
    "version": 3
   },
   "file_extension": ".py",
   "mimetype": "text/x-python",
   "name": "python",
   "nbconvert_exporter": "python",
   "pygments_lexer": "ipython3",
   "version": "3.11.4"
  }
 },
 "nbformat": 4,
 "nbformat_minor": 1
}
